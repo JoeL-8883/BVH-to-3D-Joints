{
 "cells": [
  {
   "cell_type": "code",
   "execution_count": 41,
   "metadata": {},
   "outputs": [],
   "source": [
    "import os\n",
    "import shutil"
   ]
  },
  {
   "cell_type": "code",
   "execution_count": null,
   "metadata": {},
   "outputs": [],
   "source": [
    "# Careful not to run this twice otherwise getcwd() will be the location of All_BvH_Files\n",
    "current = os.getcwd()\n",
    "parent = os.path.dirname(os.getcwd())"
   ]
  },
  {
   "cell_type": "code",
   "execution_count": null,
   "metadata": {},
   "outputs": [],
   "source": [
    "def create_output_dir(current_dir, input_dir, copy_bvh=False, name_code=False, texts=False, raw=False): \n",
    "    counter = 0\n",
    "    # input_dir = the directory of All_BvH_Files i.e. ../experiments/All_BvH_Files\n",
    "    outputdir = current_dir # the dir of this notebook\n",
    "    outputdir_categorised = os.path.join(outputdir, 'output_categorised') # create an output dir\n",
    "\n",
    "    # Get the motions in the input directory\n",
    "    emilya_motions = os.listdir(input_dir) # the different types of motions, i.e. SW\n",
    "    \n",
    "    # Iterate through each of the motions, SW, BS, CS, etc.\n",
    "    for motion in emilya_motions:       \n",
    "        # Create folders for each type of motion\n",
    "        output_motion_folders = os.path.join(outputdir_categorised, motion) # i.e. ../output/SW\n",
    "        if not os.path.exists(output_motion_folders):\n",
    "            os.makedirs(output_motion_folders) \n",
    "        \n",
    "        # Get the emotions for each motion\n",
    "        if motion.endswith('.DS_Store'):\n",
    "            continue\n",
    "        else:\n",
    "            emotions = os.listdir(motion)\n",
    "\n",
    "            # Write each emotion folder to output directory\n",
    "            for emotion in emotions[1:]:\n",
    "                output_emotion_folder = os.path.join(output_motion_folders, emotion) # i.e. ../output/SW/angry\n",
    "                if not os.path.exists(output_emotion_folder):\n",
    "                    os.makedirs(output_emotion_folder)\n",
    "\n",
    "                # Copy the BVH files to the output directory if specified\n",
    "                if copy_bvh:\n",
    "                    # Get each of the actors mocap data for a motion and emotion\n",
    "                    actors_dir = os.path.join(input_dir, motion, emotion) # i.e. ../experiments/All_BvH_Files/SW/angry\n",
    "                    actors = os.listdir(actors_dir)\n",
    "\n",
    "                    # Get the directory of the actors mocap data containg BVH files\n",
    "                    for actor in actors:\n",
    "                        bvh_folder = os.path.join(actors_dir, actor)\n",
    "                        if bvh_folder.endswith('.DS_Store'): \n",
    "                            continue\n",
    "                        else:\n",
    "                            bvh_files = os.listdir(bvh_folder)\n",
    "\n",
    "                            # Copy the BVH files to the output directory\n",
    "                            for bvh in bvh_files:\n",
    "                                bvh_file = os.path.join(actors_dir, actor, bvh)\n",
    "                                number = f\"{counter:05d}\"\n",
    "                                final_destination = os.path.join(output_emotion_folder, number + '.bvh')\n",
    "\n",
    "                                if name_code: \n",
    "                                    if raw: # Just throw all the .bvh files into one folder\n",
    "                                        shutil.copy(bvh_file, outputdir)\n",
    "                                    else:\n",
    "                                        shutil.copy(bvh_file, final_destination)\n",
    "                                else:\n",
    "                                    shutil.copy(bvh_file, output_emotion_folder)\n",
    "                                counter += 1\n",
    "\n",
    "                    \n",
    "        \n",
    "\n",
    "# Get the directory of the BvH files\n",
    "bvh_files = os.path.join(parent, 'All_BvH_Files')\n",
    "try:\n",
    "    os.chdir(bvh_files)\n",
    "except:\n",
    "    raise FileNotFoundError(f\"The directory {bvh_files} does not exist.\")\n",
    "\n",
    "create_output_dir(current, bvh_files, True, True)"
   ]
  },
  {
   "cell_type": "code",
   "execution_count": null,
   "metadata": {},
   "outputs": [],
   "source": []
  },
  {
   "cell_type": "code",
   "execution_count": null,
   "metadata": {},
   "outputs": [],
   "source": []
  }
 ],
 "metadata": {
  "kernelspec": {
   "display_name": "base",
   "language": "python",
   "name": "python3"
  },
  "language_info": {
   "codemirror_mode": {
    "name": "ipython",
    "version": 3
   },
   "file_extension": ".py",
   "mimetype": "text/x-python",
   "name": "python",
   "nbconvert_exporter": "python",
   "pygments_lexer": "ipython3",
   "version": "3.12.4"
  }
 },
 "nbformat": 4,
 "nbformat_minor": 2
}
